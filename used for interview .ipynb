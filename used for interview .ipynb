{
 "cells": [
  {
   "cell_type": "code",
   "execution_count": 1,
   "id": "565e0518-44de-432f-baf1-1252c37cdc58",
   "metadata": {},
   "outputs": [],
   "source": [
    "#######for loop"
   ]
  },
  {
   "cell_type": "code",
   "execution_count": 7,
   "id": "8fca732d-495f-47be-a3ec-b5ff345f371d",
   "metadata": {},
   "outputs": [
    {
     "name": "stdout",
     "output_type": "stream",
     "text": [
      "1 2 3 4 5 6 7 8 9 10 "
     ]
    }
   ],
   "source": [
    "#1. Write a Python program to print numbers from 1 to 10 using a for loop.\n",
    "\n",
    "#using for loop to print 1 to 10 numbers\n",
    "\n",
    "for i in range(1,11):\n",
    "    print(i,end=\" \")"
   ]
  },
  {
   "cell_type": "code",
   "execution_count": null,
   "id": "75663b26-d78c-4806-b286-18ecc10ef38e",
   "metadata": {},
   "outputs": [
    {
     "data": {
      "text/plain": [
       "' Both for and while loops takes the conditins we give and iterate through the\\nloop untill the condition fails , after that our result will printed .\\n    The main difference between these two loops is,\\n        if we know then number of itterations we have to do then we will through\\n    \"for loop\" otherwise we will go through \"whileloop\". '"
      ]
     },
     "execution_count": 8,
     "metadata": {},
     "output_type": "execute_result"
    }
   ],
   "source": [
    "#2. Explain the difference between a for loop and a while loop in Python.\n",
    "\n",
    "''' Both for and while loops takes the conditins we give and iterate through the\n",
    "loop untill the condition fails , after that our result will printed .\n",
    "    The main difference between these two loops is,\n",
    "        if we know then number of itterations we have to do then we will through\n",
    "    \"for loop\" otherwise we will go through \"whileloop\". '''"
   ]
  },
  {
   "cell_type": "code",
   "execution_count": 11,
   "id": "af3c6a4a-ddfe-4e9d-b1d9-1b3c0bb15dfb",
   "metadata": {},
   "outputs": [
    {
     "name": "stdout",
     "output_type": "stream",
     "text": [
      "sum of numbers from 1 to 100 is :  5050\n"
     ]
    }
   ],
   "source": [
    "#3. Write a Python program to calculate the sum of all numbers from 1 to 100 using a for loop.\n",
    "\n",
    "#initialisng sum=o to get total sum\n",
    "sum=0\n",
    "#iterations done through for loop\n",
    "for i in range(1,101):\n",
    "    sum=sum+i\n",
    "print(\"sum of numbers from 1 to 100 is : \",sum)"
   ]
  },
  {
   "cell_type": "code",
   "execution_count": 12,
   "id": "f9daada4-26a5-4d8a-abcc-6f0545f01a58",
   "metadata": {},
   "outputs": [
    {
     "name": "stdout",
     "output_type": "stream",
     "text": [
      "1\n",
      "2\n",
      "3\n"
     ]
    }
   ],
   "source": [
    "#4. How do you iterate through a list using a for loop in Python?\n",
    "\n",
    "'''for example we are taking the list as,\n",
    "for i in [1,2,3]:    \n",
    "    print (i)     in this syntax every element in the list is assigned to i untill the condition fails.\n",
    "    \n",
    "i.e, for loop statement assigns an individual element of the list to item variable in each iteration.''' \n",
    "\n",
    "for i in [1,2,3]:\n",
    "    print (i)  "
   ]
  },
  {
   "cell_type": "code",
   "execution_count": 18,
   "id": "dd14dc1c-924c-481b-b742-3ea35cc18742",
   "metadata": {},
   "outputs": [
    {
     "name": "stdout",
     "output_type": "stream",
     "text": [
      "product of all elements in l is:  120\n"
     ]
    }
   ],
   "source": [
    "#5. Write a Python program to find the product of all elements in a list using a for loop\n",
    "\n",
    "l=[1,2,3,4,5]\n",
    "product=1         #taking list as l and product=1 for loop \n",
    "for i in l:\n",
    "    product=product*i\n",
    "print(\"product of all elements in l is: \",product)"
   ]
  },
  {
   "cell_type": "code",
   "execution_count": 29,
   "id": "66df3981-3a89-4bf1-88b5-043e0116b62c",
   "metadata": {},
   "outputs": [
    {
     "name": "stdout",
     "output_type": "stream",
     "text": [
      "2 4 6 8 10 12 14 16 18 20 "
     ]
    }
   ],
   "source": [
    "#6. Create a Python program that prints all even numbers from 1 to 20 using a for loop.\n",
    "\n",
    "for i in range(1,21):\n",
    "#loop runs from 1 to 21 because we want even numbers from 1 to 20 ,here we take n+1 values    \n",
    "    if i%2==0:\n",
    "        #i%2==0 is the condition to check even numbers        \n",
    "        print(i,end=\" \")\n",
    "        \n"
   ]
  },
  {
   "cell_type": "code",
   "execution_count": 74,
   "id": "d0130521-0ee1-4147-9f30-118da63562ab",
   "metadata": {},
   "outputs": [],
   "source": [
    "#7. Write a Python program that calculates the factorial of a number using a for loop.\n",
    "\n",
    "def factorial(x):\n",
    "    #here we define a function to find factorial\n",
    "    product=1                  #local variable\n",
    "    for i in range(1,x+1):\n",
    "        product=i*product\n",
    "    return product\n",
    "        "
   ]
  },
  {
   "cell_type": "code",
   "execution_count": 75,
   "id": "78f5c428-ec7f-48ce-bb60-71236468c88a",
   "metadata": {},
   "outputs": [
    {
     "data": {
      "text/plain": [
       "120"
      ]
     },
     "execution_count": 75,
     "metadata": {},
     "output_type": "execute_result"
    }
   ],
   "source": [
    "factorial(5)"
   ]
  },
  {
   "cell_type": "code",
   "execution_count": 76,
   "id": "4c11d65d-9044-4b20-b948-390585a0c8b1",
   "metadata": {},
   "outputs": [
    {
     "data": {
      "text/plain": [
       "1"
      ]
     },
     "execution_count": 76,
     "metadata": {},
     "output_type": "execute_result"
    }
   ],
   "source": [
    "factorial(0)"
   ]
  },
  {
   "cell_type": "code",
   "execution_count": null,
   "id": "464fe02e-b204-4b8e-a7bd-a010397df90c",
   "metadata": {},
   "outputs": [],
   "source": [
    "#8. How can you iterate through the characters of a string using a for loop in Python?\n",
    "\n",
    "\n",
    "''' for example we take for i in range(len(str)):\n",
    "here i takes the index value of the string ,that means iteration through characters of a string\n",
    "takes the index value of string for loop iteration that value repeates untill condition fails'''"
   ]
  },
  {
   "cell_type": "code",
   "execution_count": 83,
   "id": "3ff44b79-ee13-4048-acff-daf90c8d950b",
   "metadata": {},
   "outputs": [
    {
     "name": "stdout",
     "output_type": "stream",
     "text": [
      "5\n",
      "5\n",
      "5\n",
      "5\n",
      "5\n"
     ]
    }
   ],
   "source": [
    "#9. Write a Python program to find the largest number in a list using a for loop.\n",
    "\n",
    "l=[1,2,3,4,5]\n",
    "for i in range(1,6):\n",
    "    print(max(l))"
   ]
  },
  {
   "cell_type": "code",
   "execution_count": 89,
   "id": "688b3629-0f89-404e-8c9b-b92a5df175f7",
   "metadata": {},
   "outputs": [
    {
     "name": "stdin",
     "output_type": "stream",
     "text": [
      "enter no.of elements to add in the list:  5\n",
      "enter elements:  1\n",
      "enter elements:  2\n",
      "enter elements:  3\n",
      "enter elements:  4\n",
      "enter elements:  5\n"
     ]
    },
    {
     "name": "stdout",
     "output_type": "stream",
     "text": [
      "maximum element in the list is:  5\n"
     ]
    }
   ],
   "source": [
    "#taking empty list\n",
    "l=[]\n",
    "#asking user to print no.of elements to print\n",
    "x=int(input(\"enter no.of elements to add in the list: \"))\n",
    "for i in range(1,x+1):\n",
    "    #loop iterates from  1 to no.of elements +1\n",
    "    ele=int(input(\"enter elements: \"))\n",
    "    l.append(ele)\n",
    "print(\"maximum element in the list is: \",max(l))\n"
   ]
  },
  {
   "cell_type": "code",
   "execution_count": 24,
   "id": "75710924-46c0-406b-a4a9-b83ad1ee6bf1",
   "metadata": {},
   "outputs": [],
   "source": [
    "#10. Create a Python program that prints the Fibonacci sequence up to a specified limit using a for loop.\n",
    "\n",
    "'''fibanocci series is the sequence of no's that are formed by adding previous two numbers\n",
    " and started from 0 and 1...i.e., 0 1 1 2 3 5 8 ....'''\n",
    "\n",
    "\n",
    "#initialising a=0 and b=1 because series starts from 0 and 1\n",
    "def fibanocci(x):\n",
    "    a=0\n",
    "    b=1\n",
    "    if x==0:\n",
    "        print(a,end=\" \")            \n",
    "    else:\n",
    "        print(a,end=\" \")     \n",
    "        print(b,end=\" \")\n",
    "        for i in range(2,x): \n",
    "            c=a+b\n",
    "            a=b\n",
    "            b=c\n",
    "            print(c,end=\" \")\n",
    "    "
   ]
  },
  {
   "cell_type": "code",
   "execution_count": 25,
   "id": "c569b793-74e9-4cb2-a64b-e6b84948ee3a",
   "metadata": {},
   "outputs": [
    {
     "name": "stdout",
     "output_type": "stream",
     "text": [
      "0 1 1 2 3 5 8 13 21 34 "
     ]
    }
   ],
   "source": [
    "fibanocci(10)"
   ]
  },
  {
   "cell_type": "code",
   "execution_count": 9,
   "id": "eeffc1c5-4d14-4fd4-8075-8e591110c533",
   "metadata": {},
   "outputs": [
    {
     "data": {
      "text/plain": [
       "0"
      ]
     },
     "execution_count": 9,
     "metadata": {},
     "output_type": "execute_result"
    }
   ],
   "source": [
    "#.11.Write a Python program to count the number of vowels in a given string using a for loop.\n",
    "\n",
    "#function to count vowels\n",
    "def count_of_vowels(str):\n",
    "    \n",
    "    #initialising count variable to 0\n",
    "    count=0\n",
    "    \n",
    "    #loop for alphabets in string\n",
    "    for alphabet in str:\n",
    "        \n",
    "        #checking alphabet is present invowels \n",
    "        if alphabet in \"aeiouAEIOU\":\n",
    "            count=count+1\n",
    "        return count\n",
    "    \n",
    "#initialsing string    \n",
    "str='phani'\n",
    "\n",
    "#function call\n",
    "count_of_vowels(str)"
   ]
  },
  {
   "cell_type": "code",
   "execution_count": 16,
   "id": "76b18237-d00d-46ac-bf60-2ca8a0207f12",
   "metadata": {},
   "outputs": [
    {
     "name": "stdin",
     "output_type": "stream",
     "text": [
      "enter a number to find the multiplication:  5\n"
     ]
    },
    {
     "name": "stdout",
     "output_type": "stream",
     "text": [
      "5 * 1 = 5\n",
      "5 * 2 = 10\n",
      "5 * 3 = 15\n",
      "5 * 4 = 20\n",
      "5 * 5 = 25\n",
      "5 * 6 = 30\n",
      "5 * 7 = 35\n",
      "5 * 8 = 40\n",
      "5 * 9 = 45\n",
      "5 * 10 = 50\n"
     ]
    }
   ],
   "source": [
    "# 12. Create a Python program that generates a multiplication table for a given number using a for loop.\n",
    "\n",
    "#taking variable x for finding multiplication\n",
    "x=int(input(\"enter a number to find the multiplication: \"))\n",
    "\n",
    "#loop for i in range\n",
    "for i in range(1,11):\n",
    "    \n",
    "    #multiplication condition\n",
    "    x*i==x*i\n",
    "    print(x ,\"*\" ,i ,\"=\",x*i)"
   ]
  },
  {
   "cell_type": "code",
   "execution_count": 22,
   "id": "2733fa57-5210-4224-af49-b54806a8d1c4",
   "metadata": {},
   "outputs": [
    {
     "name": "stdout",
     "output_type": "stream",
     "text": [
      "5\n",
      "4\n",
      "3\n",
      "2\n",
      "1\n"
     ]
    }
   ],
   "source": [
    "#13. Write a Python program to reverse a list using a for loop.\n",
    "\n",
    "#taking list \n",
    "l=[1,2,3,4,5]\n",
    "\n",
    "#loop for i in list of every element\n",
    "for i in l:\n",
    "    \n",
    "    #condition to check first and last elements to print in reverse order\n",
    "    l[i-1]==l[-i]\n",
    "    print(l[-i])"
   ]
  },
  {
   "cell_type": "code",
   "execution_count": 40,
   "id": "9b41aef9-f94a-4fb2-976a-b3c7aab68cf2",
   "metadata": {},
   "outputs": [
    {
     "name": "stdout",
     "output_type": "stream",
     "text": [
      "common elements between l1 and l2 are:  [1, 2, 5, 6]\n"
     ]
    }
   ],
   "source": [
    "#14. Write a Python program to find the common elements between two lists using a for loop.\n",
    "\n",
    "\n",
    "# taking lists l1 and l2 \n",
    "l1=[1,2,3,4,5,6]\n",
    "l2=[2,8,9,1,5,6]\n",
    "\n",
    "#initialising empty list to store common elements\n",
    "l=[]\n",
    "\n",
    "#loop for the elements in l1\n",
    "for i in l1:\n",
    "    \n",
    "    #if l1 element exist in l2\n",
    "    if  i in l2:\n",
    "        \n",
    "        #we store those elements in our empty list i.e, l\n",
    "        l.append(i)\n",
    "        \n",
    "#finalli printing our common elements\n",
    "print(\"common elements between l1 and l2 are: \",l)\n",
    "        "
   ]
  },
  {
   "cell_type": "code",
   "execution_count": null,
   "id": "74c982f6-e2a4-4b6e-b40e-d008591dd84b",
   "metadata": {},
   "outputs": [],
   "source": [
    "#15. Explain how to use a for loop to iterate through the keys and values of a dictionary in Python.\n",
    "\n",
    "'''"
   ]
  },
  {
   "cell_type": "code",
   "execution_count": 7,
   "id": "47d58a5f-e153-4802-a33d-db7a11502aa6",
   "metadata": {},
   "outputs": [
    {
     "name": "stdin",
     "output_type": "stream",
     "text": [
      "enter first number:  2\n",
      "enter second number:  4\n"
     ]
    },
    {
     "name": "stdout",
     "output_type": "stream",
     "text": [
      "2\n"
     ]
    }
   ],
   "source": [
    "#16. Write a Python program to find the GCD (Greatest Common Divisor) of two numbers using a for loop.\n",
    "\n",
    "#initialising two elements\n",
    "a=int(input(\"enter first number: \"))\n",
    "b=int(input(\"enter second number: \"))\n",
    "\n",
    "#taking minimum of 2 because division runs with small no as quotient\n",
    "c=min(a,b)\n",
    "\n",
    "#initialising gcd=0 for declaring gcd variable\n",
    "gcd=0\n",
    "\n",
    "#loop for i \n",
    "for i in range(1,c+1):\n",
    "    \n",
    "    #taking factors by using below condition\n",
    "    #and priniting greatest one among those factors\n",
    "    if a%i==0 and b%i==0:\n",
    "        gcd=i\n",
    "print(gcd)\n"
   ]
  },
  {
   "cell_type": "code",
   "execution_count": 2,
   "id": "567d43f0-b511-469d-83ae-500d6259c138",
   "metadata": {},
   "outputs": [
    {
     "name": "stdin",
     "output_type": "stream",
     "text": [
      "enter any string:  mam\n"
     ]
    },
    {
     "name": "stdout",
     "output_type": "stream",
     "text": [
      "given string is palindrome\n",
      "given string is palindrome\n",
      "given string is palindrome\n"
     ]
    }
   ],
   "source": [
    "#17. Create a Python program that checks if a string is a palindrome using a for loop.\n",
    "\n",
    "x=input(\"enter any string: \")\n",
    "\n",
    "\n",
    "for i in range(len(x)):\n",
    "    if x[-len(x)]==x[-1]:\n",
    "        print(\"given string is palindrome\")\n",
    "    else:\n",
    "        print(\"given string is not a palindrome\")\n",
    "    "
   ]
  },
  {
   "cell_type": "code",
   "execution_count": 25,
   "id": "a2496400-b309-4192-bbf9-fa6810a91267",
   "metadata": {},
   "outputs": [
    {
     "name": "stdout",
     "output_type": "stream",
     "text": [
      "[1, 2, 3, 4]\n"
     ]
    }
   ],
   "source": [
    "#18. Write a Python program to remove duplicates from a list using a for loop.\n",
    "\n",
    "\n",
    "#defining a function to remove duplicates\n",
    "def remove_duplicates(l):\n",
    "    \n",
    "    #taking new list as empty to remove duplicates\n",
    "    new_list=[]\n",
    "    \n",
    "    #loop for l to take num from l\n",
    "    for num in l:\n",
    "        \n",
    "        #if num is not in new list then we add that num in our new list\n",
    "        if num not in new_list:\n",
    "            new_list.append(num)\n",
    "    return new_list\n",
    "    \n",
    "#taking list for running our code\n",
    "l=[1,1,2,3,2,3,4]\n",
    "print(remove_duplicates(l))"
   ]
  },
  {
   "cell_type": "code",
   "execution_count": 39,
   "id": "efeed4cd-c468-44df-98f7-7ccec271143b",
   "metadata": {},
   "outputs": [
    {
     "name": "stdin",
     "output_type": "stream",
     "text": [
      "enter any sentence:  hello this is phani\n"
     ]
    },
    {
     "name": "stdout",
     "output_type": "stream",
     "text": [
      "no.of words are:  4\n",
      "no.of characters are:  11\n"
     ]
    }
   ],
   "source": [
    "#19. Create a Python program that counts the number of words in a sentence using a for loop.\n",
    "\n",
    "\n",
    "#taking a variable sen to take sentence from user\n",
    "sen=input(\"enter any sentence: \")\n",
    "\n",
    "#for char count initialising char_count=0\n",
    "char_count=0\n",
    "\n",
    "#loop for words in sentence\n",
    "#taking len,split functions to count no.of words\n",
    "for words in sen:\n",
    "    len(sen.split())\n",
    "    char_count+=1\n",
    "print(\"no.of words are: \",len(sen.split()))\n",
    "print(\"no.of characters are: \",count)\n",
    "    "
   ]
  },
  {
   "cell_type": "code",
   "execution_count": 35,
   "id": "cd68e4ed-d726-44a4-baf4-580d81b96ed7",
   "metadata": {},
   "outputs": [
    {
     "data": {
      "text/plain": [
       "2"
      ]
     },
     "execution_count": 35,
     "metadata": {},
     "output_type": "execute_result"
    }
   ],
   "source": [
    "x=\"hello world\"         #use of split function\n",
    "len(x.split())"
   ]
  },
  {
   "cell_type": "code",
   "execution_count": 45,
   "id": "a547e572-975e-48b6-81b6-2decc046f72d",
   "metadata": {},
   "outputs": [
    {
     "name": "stdout",
     "output_type": "stream",
     "text": [
      "the sum of odd numbers from 1 to 50 is:  625\n"
     ]
    }
   ],
   "source": [
    "#20. Write a Python program to find the sum of all odd numbers from 1 to 50 using a for loop.\n",
    "\n",
    "#initialisng sum=0 to count the odd numbers sum\n",
    "sum=0\n",
    "\n",
    "#loop for i upto 50\n",
    "for i in range(1,51):\n",
    "    \n",
    "    #taking odd numbers condition \n",
    "    #in next line we count the sum\n",
    "    if i%2==1:\n",
    "        sum+=i\n",
    "        \n",
    "print(\"the sum of odd numbers from 1 to 50 is: \",sum)"
   ]
  },
  {
   "cell_type": "code",
   "execution_count": 56,
   "id": "fee69cff-0614-43c4-abe0-f87bec2b99e8",
   "metadata": {},
   "outputs": [
    {
     "name": "stdin",
     "output_type": "stream",
     "text": [
      "enter number to find square root:  7\n"
     ]
    },
    {
     "data": {
      "text/plain": [
       "2.6457513110645907"
      ]
     },
     "execution_count": 56,
     "metadata": {},
     "output_type": "execute_result"
    }
   ],
   "source": [
    "#22. Create a Python program that calculates the square root of a number using a for loop.\n",
    "import math\n",
    "x=int(input(\"enter number to find square root: \"))\n",
    "math.sqrt(x)"
   ]
  },
  {
   "cell_type": "code",
   "execution_count": 5,
   "id": "00451a48-1f5e-47b8-aa99-de9d8e8afc33",
   "metadata": {},
   "outputs": [],
   "source": [
    "\n",
    "#import math function to calculate sqrt\n",
    "import math\n",
    "\n",
    "#defining function \n",
    "def square_root(number):\n",
    "    \n",
    "    #loop for i \n",
    "    for i in range(1,number+1):\n",
    "        \n",
    "        #condition for perfect square\n",
    "        if i*i==number:\n",
    "            return i\n",
    "        \n",
    "        #condition for imperfect squares\n",
    "        if i*i>number:\n",
    "            return math.sqrt(number)\n",
    "        return math.sqrt(number)"
   ]
  },
  {
   "cell_type": "code",
   "execution_count": 6,
   "id": "40ebc30e-b967-40b0-8324-a1bd659fbe85",
   "metadata": {},
   "outputs": [
    {
     "data": {
      "text/plain": [
       "2.0"
      ]
     },
     "execution_count": 6,
     "metadata": {},
     "output_type": "execute_result"
    }
   ],
   "source": [
    "square_root(4)"
   ]
  },
  {
   "cell_type": "code",
   "execution_count": 2,
   "id": "c4854f2c-efff-4422-91d7-f3ada1ce5912",
   "metadata": {},
   "outputs": [
    {
     "name": "stdin",
     "output_type": "stream",
     "text": [
      "enter first number:  2\n",
      "enter second number:  4\n"
     ]
    },
    {
     "name": "stdout",
     "output_type": "stream",
     "text": [
      "greatest common divisor is:  2\n",
      "least common multiple is:  4.0\n"
     ]
    }
   ],
   "source": [
    "#23. Write a Python program to find the LCM (Least Common Multiple) of two numbers using a for loop.\n",
    "\n",
    "\n",
    "#initialising two elements\n",
    "a=int(input(\"enter first number: \"))\n",
    "b=int(input(\"enter second number: \"))\n",
    "\n",
    "#taking minimum of 2 because division runs with small no as quotient\n",
    "c=min(a,b)\n",
    "d=a*b\n",
    "#initialising gcd=0 for declaring gcd variable\n",
    "gcd=0\n",
    "\n",
    "#loop for i \n",
    "for i in range(1,c+1):\n",
    "    \n",
    "    #taking factors by using below condition\n",
    "    #and priniting greatest one among those factors\n",
    "    if a%i==0 and b%i==0:\n",
    "        gcd=i\n",
    "print(\"greatest common divisor is: \",gcd)\n",
    "\n",
    "#lcm(a,b) formula is  (a*b)/gcd\n",
    "#lcm taken by using above formulae\n",
    "print(\"least common multiple is: \",d/gcd)"
   ]
  },
  {
   "cell_type": "code",
   "execution_count": 7,
   "id": "f63b2ddb-4fa0-453c-ba42-c46de182ef88",
   "metadata": {},
   "outputs": [],
   "source": [
    "####if else"
   ]
  },
  {
   "cell_type": "code",
   "execution_count": 12,
   "id": "99af79d3-382b-4bfd-979b-cb734f25d34a",
   "metadata": {},
   "outputs": [
    {
     "name": "stdin",
     "output_type": "stream",
     "text": [
      "enter any number:  3\n"
     ]
    },
    {
     "name": "stdout",
     "output_type": "stream",
     "text": [
      "entered number is positive\n"
     ]
    }
   ],
   "source": [
    "#1. Write a Python program to check if a number is positive, negative, or zero using an if-else statement.\n",
    "\n",
    "\n",
    "x=int(input(\"enter any number: \"))\n",
    "if x>0 :\n",
    "    print(\"entered number is positive\")\n",
    "elif x<0:\n",
    "    print(\"entered number is negative\")\n",
    "else:\n",
    "    print(\"entered number is zero\")"
   ]
  },
  {
   "cell_type": "code",
   "execution_count": 14,
   "id": "54955b5b-11cc-4ef2-b9ea-9974dd62ab1e",
   "metadata": {},
   "outputs": [
    {
     "name": "stdin",
     "output_type": "stream",
     "text": [
      "enter any number:  3\n"
     ]
    },
    {
     "name": "stdout",
     "output_type": "stream",
     "text": [
      "given number is odd number\n"
     ]
    }
   ],
   "source": [
    "#2. Create a Python program that checks if a given number is even or odd using an if-else statement.\n",
    "\n",
    "x=int(input(\"enter any number: \"))\n",
    "\n",
    "#x%2==0 is the condition for even number\n",
    "#checking the condition for even \n",
    "if x%2==0:\n",
    "    print(\"given number is an even number\")\n",
    "else:\n",
    "    print(\"given number is odd number\")"
   ]
  },
  {
   "cell_type": "code",
   "execution_count": 15,
   "id": "b1a6a1eb-347a-43f4-8f87-efa792d4a5bb",
   "metadata": {},
   "outputs": [
    {
     "name": "stdout",
     "output_type": "stream",
     "text": [
      "Positive number\n"
     ]
    }
   ],
   "source": [
    "#3. How can you use nested if-else statements in Python, and provide an example?\n",
    "\n",
    "# Python program to demonstrate\n",
    "# nested if statement\n",
    "num = 15\n",
    "if num >= 0:\n",
    "\tif num == 0:\n",
    "        #if number =0 and number>=0 num =15 in if block it checks the condition there,if it's true \n",
    "        #it prints the below two conditions\n",
    "        #if the condition fails then loop enters into else block to check the condition\n",
    "        #loop repeates untill the condition fails after that it terminates\n",
    "        \n",
    "\t\tprint(\"Zero\")\n",
    "\telse:\n",
    "\t\tprint(\"Positive number\")\n",
    "else:\n",
    "\tprint(\"Negative number\")\n",
    "    \n"
   ]
  },
  {
   "cell_type": "code",
   "execution_count": 18,
   "id": "ac06c116-0747-472a-b6e7-be6ba1b1111d",
   "metadata": {},
   "outputs": [
    {
     "name": "stdin",
     "output_type": "stream",
     "text": [
      "enter number 1:  5\n",
      "enter number 2:  3\n",
      "enter number 3:  8\n"
     ]
    },
    {
     "name": "stdout",
     "output_type": "stream",
     "text": [
      "z is graeter i.e,  8\n"
     ]
    }
   ],
   "source": [
    "#4. Write a Python program to determine the largest of three numbers using if-else.\n",
    "\n",
    "\n",
    "x=int(input(\"enter number 1: \"))\n",
    "y=int(input(\"enter number 2: \"))\n",
    "z=int(input(\"enter number 3: \"))\n",
    "\n",
    "if (x>y)&(x>z):\n",
    "    print(\"x is graeter i.e, \",x)\n",
    "elif (y>x)&(y>z):\n",
    "    print(\"y is graeter i.e, \",y)\n",
    "else:\n",
    "    print(\"z is graeter i.e, \",z)"
   ]
  },
  {
   "cell_type": "code",
   "execution_count": 25,
   "id": "6532ec75-b5fc-48eb-9a1e-436540820b0e",
   "metadata": {},
   "outputs": [
    {
     "name": "stdin",
     "output_type": "stream",
     "text": [
      "enter any number:  -4\n"
     ]
    },
    {
     "name": "stdout",
     "output_type": "stream",
     "text": [
      "absolute value is:  4\n"
     ]
    }
   ],
   "source": [
    "#5.  Write a Python program that calculates the absolute value of a number using if-else.\n",
    "\n",
    "\n",
    "#taking number to find absolute value\n",
    "num=int(input(\"enter any number: \"))\n",
    "#checking the conition \n",
    "#if number is positive result is our num\n",
    "#if number is negative resulte is negative of num\n",
    "if num>0:\n",
    "    print(\"absolute value is: \",num)\n",
    "else:\n",
    "    print(\"absolute value is: \",-num)"
   ]
  },
  {
   "cell_type": "code",
   "execution_count": 28,
   "id": "5d1a54bd-adda-411b-a3f6-effd01a7de06",
   "metadata": {},
   "outputs": [
    {
     "name": "stdin",
     "output_type": "stream",
     "text": [
      "enter any character:  a\n"
     ]
    },
    {
     "name": "stdout",
     "output_type": "stream",
     "text": [
      "given character is vowel\n"
     ]
    }
   ],
   "source": [
    "#6. Create a Python program that checks if a given character is a vowel or consonant using if-else.\n",
    "\n",
    "x=input(\"enter any character: \")\n",
    "if x in \"aeiouAEIOU\":\n",
    "    print(\"given character is vowel\")\n",
    "else:\n",
    "    print(\"given chaarcter is consonant\")"
   ]
  },
  {
   "cell_type": "code",
   "execution_count": 30,
   "id": "6739c759-2eb0-4878-bcb6-1b426f973ed2",
   "metadata": {},
   "outputs": [
    {
     "name": "stdin",
     "output_type": "stream",
     "text": [
      "enter age:  3\n"
     ]
    },
    {
     "name": "stdout",
     "output_type": "stream",
     "text": [
      "person is not eligible for vote\n"
     ]
    }
   ],
   "source": [
    "#7. Write a Python program to determine if a user is eligible to vote based on their age using if-else.\n",
    "\n",
    "age=int(input(\"enter age: \"))\n",
    "#checking the condition using for loop\n",
    "if age>=18:\n",
    "    print(\"person is eligible for vote\")\n",
    "else:\n",
    "    print(\"person is not eligible for vote\")"
   ]
  },
  {
   "cell_type": "code",
   "execution_count": 33,
   "id": "a2e95e66-7ce1-4b91-b36a-ea3301b0f53c",
   "metadata": {},
   "outputs": [
    {
     "name": "stdin",
     "output_type": "stream",
     "text": [
      "enter amount:  10000\n"
     ]
    },
    {
     "name": "stdout",
     "output_type": "stream",
     "text": [
      "discount amount:  1200.0\n",
      "net pay:  8800.0\n"
     ]
    }
   ],
   "source": [
    "#8. Create a Python program that calculates the discount amount based on the purchase amount using if-else.\n",
    "\n",
    "amount=int(input(\"enter amount: \"))\n",
    "if amount>0:\n",
    "    if amount<=5000:\n",
    "        discount=amount*0.05\n",
    "    elif amount<=15000:\n",
    "        discount=amount*0.12\n",
    "    elif amount<=25000:\n",
    "        discount=amount*0.2\n",
    "    else:\n",
    "        discount=amount*0.3\n",
    "    print (\"discount amount: \",discount)\n",
    "    print (\"net pay: \",amount-discount)\n",
    "else:\n",
    "    print(\"invalid amount\")"
   ]
  },
  {
   "cell_type": "code",
   "execution_count": 34,
   "id": "1e1ba24d-d0e4-4ce8-8ec0-03e79a1bd4e0",
   "metadata": {},
   "outputs": [
    {
     "name": "stdin",
     "output_type": "stream",
     "text": [
      "enter any number:  7\n"
     ]
    },
    {
     "name": "stdout",
     "output_type": "stream",
     "text": [
      "x in our range\n"
     ]
    }
   ],
   "source": [
    "#9. Write a Python program to check if a number is within a specified range using if-else.\n",
    "\n",
    "#taking number in <100\n",
    "x=int(input(\"enter any number: \"))\n",
    "if x<=100:\n",
    "    print(\"x in our range\")\n",
    "else:\n",
    "    print(\"x is not in our range\")"
   ]
  },
  {
   "cell_type": "code",
   "execution_count": 35,
   "id": "bc0366d0-18b2-4385-8065-46da1aa94d2d",
   "metadata": {},
   "outputs": [
    {
     "name": "stdin",
     "output_type": "stream",
     "text": [
      "enter score:  67\n"
     ]
    },
    {
     "name": "stdout",
     "output_type": "stream",
     "text": [
      "grade C\n"
     ]
    }
   ],
   "source": [
    "#10. Create a Python program that determines the grade of a student based on their score using if-else.\n",
    "\n",
    "x=int(input(\"enter score: \"))\n",
    "if x>=90:\n",
    "    print(\"grade A\")\n",
    "elif x>=75:\n",
    "    print(\"grade B\")\n",
    "elif x>=60:\n",
    "    print(\"grade C\")\n",
    "else:\n",
    "    print(\"grade D\")"
   ]
  },
  {
   "cell_type": "code",
   "execution_count": 47,
   "id": "ed738d70-ffe5-4400-9d2b-480f1a4d502d",
   "metadata": {},
   "outputs": [
    {
     "name": "stdin",
     "output_type": "stream",
     "text": [
      "enter any string:  ''\n"
     ]
    },
    {
     "name": "stdout",
     "output_type": "stream",
     "text": [
      "string contains  elements\n"
     ]
    }
   ],
   "source": [
    "#11. Write a Python program to check if a string is empty or not using if-else.\n",
    "\n",
    "s=input(\"enter any string: \")\n",
    "\n",
    "if len(s)>0:\n",
    "    print(\"string contains  elements\")\n",
    "else:\n",
    "    print(\"string contains no elements\")"
   ]
  },
  {
   "cell_type": "code",
   "execution_count": 45,
   "id": "4c987fe7-5782-477f-8ea7-af55e9e2ca05",
   "metadata": {},
   "outputs": [
    {
     "data": {
      "text/plain": [
       "0"
      ]
     },
     "execution_count": 45,
     "metadata": {},
     "output_type": "execute_result"
    }
   ],
   "source": [
    "s=\"\"\n",
    "len(s)"
   ]
  },
  {
   "cell_type": "code",
   "execution_count": 8,
   "id": "8421abc0-a835-469a-b022-9b089c26938b",
   "metadata": {},
   "outputs": [
    {
     "name": "stdin",
     "output_type": "stream",
     "text": [
      "enter side1:  3\n",
      "enter side2:  3\n",
      "enter side3:  3\n"
     ]
    },
    {
     "name": "stdout",
     "output_type": "stream",
     "text": [
      "triangle is equilateral\n"
     ]
    }
   ],
   "source": [
    "#12. Create a Python program that identifies the type of a triangle (e.g., equilateral, isosceles, or scalene) based on input values using if-else.\n",
    "\n",
    "side1=input(\"enter side1: \")\n",
    "side2=input(\"enter side2: \")\n",
    "side3=input(\"enter side3: \")\n",
    "if side1==side2==side3:\n",
    "    print(\"triangle is equilateral\")\n",
    "elif (side1==side2) or (side1==side3) or (side2==side3):\n",
    "    print(\"triangle is isoceless\")\n",
    "else:\n",
    "    print(\"scalene \")"
   ]
  },
  {
   "cell_type": "code",
   "execution_count": 14,
   "id": "11ed84d2-5755-487a-8b60-b584f28b0d24",
   "metadata": {},
   "outputs": [
    {
     "name": "stdin",
     "output_type": "stream",
     "text": [
      "enter any number:  5\n"
     ]
    },
    {
     "name": "stdout",
     "output_type": "stream",
     "text": [
      "day of the week is:  thurs\n"
     ]
    }
   ],
   "source": [
    "#13. Write a Python program to determine the day of the week based on a user-provided number using if-else.\n",
    "\n",
    "day_number=int(input(\"enter any number: \"))\n",
    "day_week=['sun','mon','tue','wed','thurs','fri','sat']\n",
    "\n",
    "if day_number>=1 and day_number<=7:\n",
    "    day_week=day_week[day_number-1]\n",
    "    print(\"day of the week is: \",day_week)\n",
    "else:\n",
    "    print(\"invalid input\")\n"
   ]
  },
  {
   "cell_type": "code",
   "execution_count": 19,
   "id": "ff47e36b-4aa9-4b44-b40b-6a97016b1406",
   "metadata": {},
   "outputs": [],
   "source": [
    "#14. Create a Python program that checks if a given year is a leap year using both if-else and a function.\n",
    "\n",
    "def check_leapyear(year):\n",
    "    if year %4==0:\n",
    "        if year%100==0:\n",
    "            if year%400==0:\n",
    "                print(year,\"is a leap year and evenly divisible by 400\")\n",
    "            else:\n",
    "                print(year,\"is not a leap year\")\n",
    "        else:\n",
    "            print(year,\"is a leap year\")\n",
    "    else:\n",
    "        print(year,\"year is not a leap year\")\n",
    "        "
   ]
  },
  {
   "cell_type": "code",
   "execution_count": 20,
   "id": "28703327-1d42-4db1-847e-852d468be9b1",
   "metadata": {},
   "outputs": [
    {
     "name": "stdout",
     "output_type": "stream",
     "text": [
      "1997 year is not a leap year\n"
     ]
    }
   ],
   "source": [
    "check_leapyear(1997)"
   ]
  },
  {
   "cell_type": "code",
   "execution_count": null,
   "id": "149ebd7a-9007-4da6-bd50-f70d767e13bc",
   "metadata": {},
   "outputs": [],
   "source": [
    "#15.  How do you use the \"assert\" statement in Python to add debugging checks within if-else blocks?\n"
   ]
  },
  {
   "cell_type": "code",
   "execution_count": 3,
   "id": "81632a66-c2aa-422e-b5b1-0969072a2b03",
   "metadata": {},
   "outputs": [
    {
     "name": "stdin",
     "output_type": "stream",
     "text": [
      "enter age of a person 45\n"
     ]
    },
    {
     "name": "stdout",
     "output_type": "stream",
     "text": [
      "not a senior citisen\n"
     ]
    }
   ],
   "source": [
    "'''16. Create a Python program that determines the eligibility of a person for a senior citizen discount based on \n",
    "age using if-else.'''\n",
    "\n",
    "\n",
    "x=int(input(\"enter age of a person\"))\n",
    "\n",
    "\n",
    "if 60<=x<=80:\n",
    "    print(\"person is eligible for senior citisen discount\")\n",
    "elif(x>80):\n",
    "    print(\"person is super senior citisen\")\n",
    "else:\n",
    "    print(\"not a senior citisen\")"
   ]
  },
  {
   "cell_type": "code",
   "execution_count": 16,
   "id": "2311aaa3-268e-4abc-b31f-e7a28565445d",
   "metadata": {},
   "outputs": [
    {
     "name": "stdin",
     "output_type": "stream",
     "text": [
      "enter any character:  @\n"
     ]
    },
    {
     "name": "stdout",
     "output_type": "stream",
     "text": [
      "neither lower case nor uppercase\n"
     ]
    }
   ],
   "source": [
    "#17. Write a Python program to categorize a given character as uppercase, lowercase, or neither using if-else.\n",
    "char=input(\"enter any character: \")\n",
    "\n",
    "if char.isupper():\n",
    "    print(\"given characteer is in upper case\")\n",
    "elif char.islower():\n",
    "    print(\"given character is in lower\")\n",
    "else:\n",
    "    print(\"neither lower case nor uppercase\")"
   ]
  },
  {
   "cell_type": "code",
   "execution_count": 11,
   "id": "98def7e3-4928-4c7d-94fb-6bde2172fdb1",
   "metadata": {},
   "outputs": [
    {
     "name": "stdin",
     "output_type": "stream",
     "text": [
      "enter the coefficient of x^2:  2\n",
      "enter the coefficient of x:  4\n",
      "enter constant:  6\n"
     ]
    },
    {
     "name": "stdout",
     "output_type": "stream",
     "text": [
      "root1=  -1.0 + i 5.656854249492381\n",
      "root2=  -1.0 + i 5.656854249492381\n"
     ]
    }
   ],
   "source": [
    "#18. Write a Python program to determine the roots of a quadratic equation using if-else.\n",
    "\n",
    "import math     \n",
    "\n",
    "a=float(input(\"enter the coefficient of x^2: \"))\n",
    "b=float(input(\"enter the coefficient of x: \"))\n",
    "c=float(input(\"enter constant: \"))\n",
    "#calculating discrimant\n",
    "\n",
    "discriminant=b**2-4*a*c\n",
    "\n",
    "if discriminant>0:\n",
    "    #roots are real and distinct\n",
    "    #calculating real roots\n",
    "    root1=(-b+ math.sqrt(discriminant))/2*a\n",
    "    root2=(-b- math.sqrt(discriminant))/2*a\n",
    "    print(\"Root1: \",root1 )\n",
    "    print(\"Root2: \",root2)\n",
    "if discriminant==0:\n",
    "    #roots are real and equal\n",
    "    root==-b/(2*a)\n",
    "    print(\"roots of the q.e are: \",root)\n",
    "else:\n",
    "    #complex roots\n",
    "    real_part=-b/(2*a)\n",
    "    imaginary_part=math.sqrt(-discriminant)/2*a\n",
    "    print(\"root1= \",real_part ,\"+\",\"i\",imaginary_part)\n",
    "    print(\"root2= \",real_part,\"+\",\"i\",imaginary_part)"
   ]
  },
  {
   "cell_type": "code",
   "execution_count": 14,
   "id": "11b90033-642c-4bd1-934e-152f4dd75b24",
   "metadata": {},
   "outputs": [
    {
     "name": "stdout",
     "output_type": "stream",
     "text": [
      "20 <function centuary at 0x7f89e469bac0>\n"
     ]
    }
   ],
   "source": [
    "#19. Create a Python program that checks if a given year is a century year or not using if-else.\n",
    "\n",
    "def centuary(year):\n",
    "    if year<=0:\n",
    "        print(\"invalid input\")\n",
    "    elif year<=100:\n",
    "        print(\"1st centuzrt\")\n",
    "    elif year%100==0:\n",
    "        print(year//100,centuary)\n",
    "    else:\n",
    "        print(year//100+1,centuary)\n",
    "        \n",
    "        \n",
    "year=1985\n",
    "centuary(1985)"
   ]
  },
  {
   "cell_type": "code",
   "execution_count": 17,
   "id": "b8fd029e-dd51-47c3-8e16-cbd89e479212",
   "metadata": {},
   "outputs": [
    {
     "name": "stdin",
     "output_type": "stream",
     "text": [
      "enter BMI values 20.5\n"
     ]
    },
    {
     "name": "stdout",
     "output_type": "stream",
     "text": [
      "person in healthy weight\n"
     ]
    }
   ],
   "source": [
    "#Create a Python program that calculates the BMI (Body Mass Index) of a person based on their weight and height using if-else.\n",
    "\n",
    "\n",
    "x=float(input(\"enter BMI values\"))\n",
    "\n",
    "if x<18.5:\n",
    "    print(\"person in underweight\")\n",
    "elif 18.5<x<24.9:\n",
    "    print(\"person in healthy weight\")\n",
    "elif 25.0<x<29.9:\n",
    "    print(\"person over weighted\")\n",
    "else:\n",
    "    print(\"obesed\")\n"
   ]
  },
  {
   "cell_type": "code",
   "execution_count": null,
   "id": "52b8c767-346f-4c63-a224-7860fd9dca57",
   "metadata": {},
   "outputs": [],
   "source": [
    "## Explain the purpose of the \"continue\" and \"break\" statements within if-else loops.\n",
    "\n",
    "\n",
    "''' the break statement is used to terminate the loop immidiately.\n",
    "    while, the continue statement is used to skip the present itteration of the loop\n",
    "    after that , loop runs untill the condition fails. '''"
   ]
  },
  {
   "cell_type": "code",
   "execution_count": 1,
   "id": "f65a3d74-6504-490a-9b3f-7a7441f01613",
   "metadata": {},
   "outputs": [],
   "source": [
    "####### functions basics"
   ]
  },
  {
   "cell_type": "code",
   "execution_count": 4,
   "id": "bb5cbecc-4265-48ee-b2d1-40254f6c613c",
   "metadata": {},
   "outputs": [],
   "source": [
    "# 1. What is a function in Python, and why is it used?\n",
    "\n",
    "''' a function which is  a block of code and return our specific task, and by using functions we have to gen code once and \n",
    "    that can be used in everywhere, if we want.there are two types of functions. 1 . inbuilt functions ,2. user-defined \n",
    "    inbuilt functions , which are alraedy stored inside python those are standard .\n",
    "    user-defined functions, which are created by us based on our requirement.\n",
    "structre is , def function_name(arguments/parameters):\n",
    "                     ...........\n",
    "                     ...........\n",
    "                     ...........\n",
    "                     body of the loop\n",
    "                     return\n",
    "    def: which is a keyword ,we have to use that key word to built our own functions.\n",
    "    function name: which is the name we have to define based on our need.\n",
    "    arguments : we have to pass none,1, 2 , and so on parametres using certain conditions.\n",
    "    body of the loop:which is the place we write our code conditions there.\n",
    "    return : this keyword is used to return the result of our code, and that can be used in everywhere of our program.\n",
    "    \n",
    "    Arguments are four types:\n",
    "    1. default arguments\n",
    "    2. keyword arguments\n",
    "    3. positional aruguments\n",
    "    4. arbitrary arguments\n",
    "    \n",
    "    1. default arguments means we can pass any default to one of our parameter ,after run of our code if we dont pass \n",
    "    any value to check then parameter takes default value.\n",
    "    2. keyword : these are used to give names to our parameters so that user didn't remeber the order always\n",
    "    3. arbitrary: these are two type : *args and ** kwargs ... the names args and kwargs are not important ,astric symbol is\n",
    "    imp ,single * is used to pass n no.of arguments\n",
    "        double** is used to pass n no.of arguments , but those are must be dict i.e, having key-value pairs.\n",
    "        \n",
    "        Examples:    '''\n",
    " \n",
    "def greet():\n",
    "    print(\"hello\")\n",
    "    "
   ]
  },
  {
   "cell_type": "code",
   "execution_count": 5,
   "id": "680fa7de-84b7-4772-9301-b75f0d5b0ac3",
   "metadata": {},
   "outputs": [
    {
     "name": "stdout",
     "output_type": "stream",
     "text": [
      "hello\n"
     ]
    }
   ],
   "source": [
    "greet()"
   ]
  },
  {
   "cell_type": "code",
   "execution_count": 7,
   "id": "f1fa9e2b-f7af-48d1-8610-ed83ba456bad",
   "metadata": {},
   "outputs": [],
   "source": [
    "def num(x,y=1):                  ## default arguments\n",
    "    z=x+y\n",
    "    return z"
   ]
  },
  {
   "cell_type": "code",
   "execution_count": 8,
   "id": "15ca119b-dcbb-4dc4-8690-7e85b186d993",
   "metadata": {},
   "outputs": [
    {
     "data": {
      "text/plain": [
       "3"
      ]
     },
     "execution_count": 8,
     "metadata": {},
     "output_type": "execute_result"
    }
   ],
   "source": [
    "num(2)"
   ]
  },
  {
   "cell_type": "code",
   "execution_count": 9,
   "id": "fa0f0bb4-3419-4ddf-82d8-31c5a2d2ea4f",
   "metadata": {},
   "outputs": [
    {
     "data": {
      "text/plain": [
       "4"
      ]
     },
     "execution_count": 9,
     "metadata": {},
     "output_type": "execute_result"
    }
   ],
   "source": [
    "num(2,2)"
   ]
  },
  {
   "cell_type": "code",
   "execution_count": 16,
   "id": "9a5b9d93-c44d-429c-9c07-81db7d11d18c",
   "metadata": {},
   "outputs": [],
   "source": [
    "def name(first,last):             ## keyword arguments\n",
    "    print (first,last)"
   ]
  },
  {
   "cell_type": "code",
   "execution_count": 17,
   "id": "8b93f1bf-09ac-418e-97b7-d00c0bd891d8",
   "metadata": {},
   "outputs": [
    {
     "name": "stdout",
     "output_type": "stream",
     "text": [
      "phani raja\n"
     ]
    }
   ],
   "source": [
    "name(first='phani',last='raja')"
   ]
  },
  {
   "cell_type": "code",
   "execution_count": 23,
   "id": "d21bfe1d-d68b-4575-b91c-e28d8660e036",
   "metadata": {},
   "outputs": [],
   "source": [
    "def num(*ex):                  ## arbitrary\n",
    "    print(ex)"
   ]
  },
  {
   "cell_type": "code",
   "execution_count": 24,
   "id": "392ea13e-e4e1-4852-b1c0-f2d527e131e7",
   "metadata": {},
   "outputs": [
    {
     "name": "stdout",
     "output_type": "stream",
     "text": [
      "(1, 2, 3, 4, 5, 6, 7, 8, 8, 9)\n"
     ]
    }
   ],
   "source": [
    "num(1,2,3,4,5,6,7,8,8,9)"
   ]
  },
  {
   "cell_type": "code",
   "execution_count": 25,
   "id": "478934a3-6df3-4296-8ae6-dfcf998191a1",
   "metadata": {},
   "outputs": [],
   "source": [
    "def dictionary(**mine):\n",
    "    print(mine)"
   ]
  },
  {
   "cell_type": "code",
   "execution_count": 27,
   "id": "88eb7c8d-d99a-48c7-b2ce-936614446f19",
   "metadata": {},
   "outputs": [
    {
     "name": "stdout",
     "output_type": "stream",
     "text": [
      "{'a': 5, 'b': 4, 'c': 8}\n"
     ]
    }
   ],
   "source": [
    "dictionary(a=5,b=4,c=8)"
   ]
  },
  {
   "cell_type": "code",
   "execution_count": 28,
   "id": "0cd56e0c-92bf-4ee0-9caf-3852fa362445",
   "metadata": {},
   "outputs": [],
   "source": [
    "## 2. How do you define a function in Python? Provide an example.\n",
    "\n",
    "'''we are define a function by using def key word and then a function that is our choice\n",
    "except inbuilt function and then follwed by paranthesis inside paranthesis we store parameters,\n",
    "those are 4 types explained above, after that we use ' :' ,when go to next line it takes tab or 4 \n",
    "spaces.'''\n",
    "\n",
    "def add_num(x,y):\n",
    "    z=x+y\n",
    "    print(z)"
   ]
  },
  {
   "cell_type": "code",
   "execution_count": 32,
   "id": "7051a47c-af65-4b1f-8f12-07ca5a6d6d5d",
   "metadata": {},
   "outputs": [
    {
     "name": "stdout",
     "output_type": "stream",
     "text": [
      "17\n"
     ]
    }
   ],
   "source": [
    "add_num(8,9)"
   ]
  },
  {
   "cell_type": "code",
   "execution_count": 33,
   "id": "17bd10b4-088f-40d0-8764-2d8b80a39018",
   "metadata": {},
   "outputs": [
    {
     "name": "stdout",
     "output_type": "stream",
     "text": [
      "7\n"
     ]
    }
   ],
   "source": [
    "add_num(5,2)"
   ]
  },
  {
   "cell_type": "code",
   "execution_count": 37,
   "id": "92994595-833d-4946-8e90-fdbf62cf65a2",
   "metadata": {},
   "outputs": [
    {
     "name": "stdout",
     "output_type": "stream",
     "text": [
      "pw skills\n"
     ]
    }
   ],
   "source": [
    "## 3. Explain the difference between a function definition and a function call.\n",
    "\n",
    "'''function is a block of code that can be used anwhere without writing no.of times.\n",
    "function call is which is print out side of our function loop to call.'''\n",
    "    \n",
    "def name():\n",
    "    print(\"pw skills\")\n",
    "#function call\n",
    "name()             #here by simply using function call we print our result."
   ]
  },
  {
   "cell_type": "code",
   "execution_count": 41,
   "id": "e86d008b-6e15-423a-b1ec-a7557b3d3193",
   "metadata": {},
   "outputs": [
    {
     "name": "stdout",
     "output_type": "stream",
     "text": [
      "required sum is:  15\n"
     ]
    }
   ],
   "source": [
    "## 4. Write a Python program that defines a function to calculate the sum of two numbers and then calls the function.\n",
    "\n",
    "\n",
    "def sum_of_numbers(x,y):\n",
    "#we define function called sum of numbers\n",
    "#then add those in a variable z\n",
    "    z=x+y\n",
    "    return z\n",
    "\n",
    "#example values\n",
    "x=7\n",
    "y=8\n",
    "#function call and store it in other varible for simplicity to write in print\n",
    "s=sum_of_numbers(7,8)\n",
    "print(\"required sum is: \",s)\n",
    "    "
   ]
  },
  {
   "cell_type": "code",
   "execution_count": 42,
   "id": "cc786e01-8224-43ef-89c8-a060e6221582",
   "metadata": {},
   "outputs": [],
   "source": [
    "## 5. What is a function signature, and what information does it typically include?\n"
   ]
  },
  {
   "cell_type": "code",
   "execution_count": 43,
   "id": "82ebbb7c-90f8-4967-86e9-ade12b959f43",
   "metadata": {},
   "outputs": [
    {
     "name": "stdout",
     "output_type": "stream",
     "text": [
      "product is:  81\n"
     ]
    }
   ],
   "source": [
    "##6. Create a Python function that takes two arguments and returns their product.\n",
    "\n",
    "def product(x,y):\n",
    "    '''defining function'''\n",
    "    z=x*y\n",
    "    return z\n",
    "\n",
    "x=9\n",
    "y=9\n",
    "'''function call'''\n",
    "r=product(x,y)\n",
    "print(\"product is: \",r)"
   ]
  },
  {
   "cell_type": "code",
   "execution_count": null,
   "id": "6dcb5aa4-75cf-4265-b872-b9301a241e08",
   "metadata": {},
   "outputs": [],
   "source": [
    "##7. Explain the concepts of formal parameters and actual arguments in Python functions.\n",
    "\n",
    "'''The major difference between actual and formal parameters is that formal parameters are defined when the function is called, \n",
    "whereas actual parameters are defined when the function is invoked.'''"
   ]
  },
  {
   "cell_type": "code",
   "execution_count": 44,
   "id": "e7b7ecc1-9e69-49f2-9136-2a41fb7bcb18",
   "metadata": {},
   "outputs": [
    {
     "name": "stdout",
     "output_type": "stream",
     "text": [
      "product is:  20\n"
     ]
    }
   ],
   "source": [
    "##8. Write a Python program that defines a function with default argument values.\n",
    "\n",
    "def default_example_division(x,y=4):\n",
    "    z=x*y\n",
    "    return z\n",
    "\n",
    "x=5\n",
    "p=default_example_division(x,y=4)\n",
    "print(\"product is: \",p)"
   ]
  },
  {
   "cell_type": "code",
   "execution_count": 46,
   "id": "1236069b-5b91-413c-8e37-71b2f07e40c2",
   "metadata": {},
   "outputs": [],
   "source": [
    "##9. How do you use keyword arguments in Python function calls? Provide an example.\n",
    "\n",
    "#key word arguments arguments are based on name of arguments\n",
    "\n",
    "def name(first,last):\n",
    "    print(\"first name: \" ,first)\n",
    "    print(\"last name: \",last)"
   ]
  },
  {
   "cell_type": "code",
   "execution_count": 48,
   "id": "ee234d37-1924-46f6-97d4-4adcfdd7bd65",
   "metadata": {},
   "outputs": [
    {
     "name": "stdout",
     "output_type": "stream",
     "text": [
      "first name:  pw\n",
      "last name:  skills\n"
     ]
    }
   ],
   "source": [
    "name('pw','skills')"
   ]
  },
  {
   "cell_type": "code",
   "execution_count": 49,
   "id": "265fac6d-8adb-4842-b158-e4f1ca5446be",
   "metadata": {},
   "outputs": [
    {
     "name": "stdout",
     "output_type": "stream",
     "text": [
      "first name:  skills\n",
      "last name:  pw\n"
     ]
    }
   ],
   "source": [
    "name('skills','pw')"
   ]
  },
  {
   "cell_type": "code",
   "execution_count": 65,
   "id": "4c3450e5-f413-4ed2-848e-5babadccbdba",
   "metadata": {},
   "outputs": [
    {
     "data": {
      "text/plain": [
       "15"
      ]
     },
     "execution_count": 65,
     "metadata": {},
     "output_type": "execute_result"
    }
   ],
   "source": [
    "##10. Create a Python function that accepts a variable number of arguments and calculates their sum\n",
    "\n",
    "def calculate_sumof(*args):\n",
    "    return sum(args)\n",
    "    \n",
    "\n",
    "calculate_sumof(1,2,3,4,5)"
   ]
  },
  {
   "cell_type": "code",
   "execution_count": 69,
   "id": "3e968515-f429-4ba2-aa33-dba9eafba96e",
   "metadata": {},
   "outputs": [],
   "source": [
    "##11. What is the purpose of the `*args` and `**kwargs` syntax in function parameter lists?\n",
    "\n",
    "'''arbitrary: these are two type : *args and ** kwargs ... the names args and kwargs are not important ,astric symbol is\n",
    "    imp ,single * is used to pass n no.of arguments\n",
    "        double** is used to pass n no.of arguments , but those are must be dict i.e, having key-value pairs.\n",
    "        \n",
    "        Examples:    '''\n",
    "    \n",
    "    \n",
    "def num(*ex):                  ## arbitrary\n",
    "    print(ex)"
   ]
  },
  {
   "cell_type": "code",
   "execution_count": 70,
   "id": "90c01855-8784-4a43-825d-aafba9694af5",
   "metadata": {},
   "outputs": [
    {
     "name": "stdout",
     "output_type": "stream",
     "text": [
      "(1, 2, 3, 4, 5)\n"
     ]
    }
   ],
   "source": [
    "num(1,2,3,4,5)"
   ]
  },
  {
   "cell_type": "code",
   "execution_count": 71,
   "id": "547858df-c993-4d8c-a859-09b1d3bc4a88",
   "metadata": {},
   "outputs": [],
   "source": [
    "def dictionary(**mine):\n",
    "    print(mine)"
   ]
  },
  {
   "cell_type": "code",
   "execution_count": 72,
   "id": "eaa764f2-a558-45bb-a896-141eebe9b855",
   "metadata": {},
   "outputs": [
    {
     "name": "stdout",
     "output_type": "stream",
     "text": [
      "{'a': 2, 'b': 5, 'c': 6}\n"
     ]
    }
   ],
   "source": [
    "dictionary(a=2,b=5,c=6)"
   ]
  },
  {
   "cell_type": "code",
   "execution_count": 84,
   "id": "4d565a37-a571-4f2a-8b86-7ce08cd03f46",
   "metadata": {},
   "outputs": [],
   "source": [
    "## 12. Describe the role of the `return` statement in Python functions and provide examples.\n",
    "\n",
    "'''return statement used to return the result of our function ,,whereas print also do that same the diference is\n",
    "once the value is return that can be used any where when we want. print only prints'''\n",
    "\n",
    "def greet(x):\n",
    "    return x"
   ]
  },
  {
   "cell_type": "code",
   "execution_count": 85,
   "id": "dffccb91-56dc-401b-909e-51a358f4bdb9",
   "metadata": {},
   "outputs": [
    {
     "data": {
      "text/plain": [
       "'hello'"
      ]
     },
     "execution_count": 85,
     "metadata": {},
     "output_type": "execute_result"
    }
   ],
   "source": [
    "greet(\"hello\")"
   ]
  },
  {
   "cell_type": "code",
   "execution_count": 94,
   "id": "41a070b6-8e33-49a6-a535-62b4a1fda575",
   "metadata": {},
   "outputs": [
    {
     "name": "stdout",
     "output_type": "stream",
     "text": [
      "Factorial of 5 is 120\n"
     ]
    }
   ],
   "source": [
    "##13. Create a Python function that calculates the factorial of a number and returns it.\n",
    "\n",
    "\n",
    "\n",
    "# factorial of given number\n",
    "def factorial(n):\n",
    "\tif n < 0:\n",
    "\t    return\n",
    "\telif n == 0 or n == 1:\n",
    "\t\treturn 1\n",
    "\telse:\n",
    "\t\tfact = 1\n",
    "\t\twhile(n > 1):\n",
    "\t\t\tfact *= n\n",
    "\t\t\tn -= 1\n",
    "\t\treturn fact\n",
    "\n",
    "# Driver Code\n",
    "num = 5\n",
    "print(\"Factorial of\",num,\"is\",\n",
    "factorial(num))\n"
   ]
  },
  {
   "cell_type": "code",
   "execution_count": null,
   "id": "af36dbb8-fc01-4d3f-99a2-f2c4be3c44e1",
   "metadata": {},
   "outputs": [],
   "source": []
  }
 ],
 "metadata": {
  "kernelspec": {
   "display_name": "Python 3 (ipykernel)",
   "language": "python",
   "name": "python3"
  },
  "language_info": {
   "codemirror_mode": {
    "name": "ipython",
    "version": 3
   },
   "file_extension": ".py",
   "mimetype": "text/x-python",
   "name": "python",
   "nbconvert_exporter": "python",
   "pygments_lexer": "ipython3",
   "version": "3.10.8"
  }
 },
 "nbformat": 4,
 "nbformat_minor": 5
}
